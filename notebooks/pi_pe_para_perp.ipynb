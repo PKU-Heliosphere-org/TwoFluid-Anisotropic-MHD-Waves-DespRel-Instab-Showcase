{
 "cells": [
  {
   "cell_type": "markdown",
   "metadata": {},
   "source": [
    "# Two Fluid Solution"
   ]
  },
  {
   "cell_type": "markdown",
   "metadata": {},
   "source": [
    "## Presets\n",
    "\n",
    "We preset it with $\\gamma_e = \\gamma_i = 5/3$, $\\beta_\\parallel = 1$, $\\beta_\\perp = 1.2$  for each of i, e (of course these are adjustable). "
   ]
  },
  {
   "cell_type": "code",
   "execution_count": 1,
   "metadata": {},
   "outputs": [],
   "source": [
    "from wave_instab_showcase.physics.plasma_anistotropic import PlasmaInfo, TwoComponentAnisotropicPlasma\n",
    "import numpy as np\n",
    "\n",
    "\n",
    "# One could try to change this.\n",
    "the_plasma_info_e = PlasmaInfo(\n",
    "    beta_para=1.0,\n",
    "    beta_perp=1.2,\n",
    "    gamma_para=1.0,\n",
    "    gamma_perp=1.0\n",
    ")\n",
    "the_plasma_info_i = PlasmaInfo(\n",
    "    beta_para=1.0,\n",
    "    beta_perp=1.2,\n",
    "    gamma_para=1.0,\n",
    "    gamma_perp=1.0\n",
    ")\n",
    "\n",
    "# Also one could play with the va and b0.\n",
    "va = 1.0\n",
    "b0 = np.array((0.0, 0.0, 1.0))\n",
    "\n",
    "the_plasma = TwoComponentAnisotropicPlasma(the_plasma_info_e, the_plasma_info_i, va, b0)"
   ]
  },
  {
   "cell_type": "markdown",
   "metadata": {},
   "source": [
    "## Try with a $\\mathbf k$ with the angle of $80^\\circ$"
   ]
  },
  {
   "cell_type": "code",
   "execution_count": 11,
   "metadata": {},
   "outputs": [
    {
     "name": "stdout",
     "output_type": "stream",
     "text": [
      "#     omega           polarity                                                                                                                                              \n",
      "    1 -0.6537+0.5538j [-0.7 +0.j    0.46-0.39j  0.01+0.01j -0.  +0.j   -0.  -0.j    0.01+0.01j\n",
      "  0.  -0.j   -0.04+0.26j -0.04+0.26j -0.01+0.06j -0.01+0.06j]                \n",
      "    2 -0.6537-0.5538j [-0.7 -0.j    0.46+0.39j  0.01-0.01j -0.  -0.j   -0.  +0.j    0.01-0.01j\n",
      "  0.  +0.j   -0.04-0.26j -0.04-0.26j -0.01-0.06j -0.01-0.06j]                \n",
      "    3 1.3108+0.j      [-0.48+0.j -0.63+0.j -0.08+0.j  0.  +0.j -0.01+0.j  0.06+0.j -0.  +0.j\n",
      " -0.42+0.j -0.42+0.j -0.09+0.j -0.09+0.j]                                      \n",
      "    4 1.0864+0.j      [-0.07+0.j -0.2 +0.j  0.71+0.j -0.  +0.j  0.11+0.j -0.64+0.j  0.  +0.j\n",
      " -0.12+0.j -0.12+0.j -0.03+0.j -0.03+0.j]                                      \n",
      "    5 -1.0899+0.j     [-0.04+0.j -0.08+0.j  0.73+0.j  0.  +0.j -0.12+0.j  0.66+0.j  0.  +0.j\n",
      "  0.06+0.j  0.06+0.j  0.01+0.j  0.01+0.j]                                      \n",
      "    6 1.0788+0.j      [ 0.  +0.j  0.  +0.j -0.  +0.j -0.74+0.j -0.  +0.j  0.  +0.j  0.67+0.j\n",
      "  0.  +0.j  0.  +0.j  0.  +0.j  0.  +0.j]                                      \n",
      "    7 -8.4002e-17+0.j [-0.  +0.j -0.  +0.j  0.  +0.j  0.  +0.j -0.38+0.j -0.24+0.j -0.  +0.j\n",
      " -0.  +0.j -0.  +0.j -0.63+0.j -0.63+0.j]                                      \n",
      "    8 -1.0788+0.j     [-0.  +0.j -0.  +0.j  0.  +0.j -0.74+0.j -0.  +0.j  0.  +0.j -0.67+0.j\n",
      "  0.  +0.j  0.  +0.j  0.  +0.j  0.  +0.j]                                      \n",
      "    9 3.0815e-33+0.j  [ 0.  +0.j -0.  +0.j -0.  +0.j  0.  +0.j -0.41+0.j -0.02+0.j  0.  +0.j\n",
      " -0.63+0.j  0.63+0.j  0.15+0.j  0.15+0.j]                                      \n",
      "   10 -3.4206e-17+0.j [-0.  +0.j  0.  +0.j -0.  +0.j -0.  +0.j  0.88+0.j  0.03+0.j -0.  +0.j\n",
      "  0.  +0.j  0.  +0.j -0.34+0.j -0.34+0.j]                                      \n",
      "   11 0.+0.j          [ 0.  +0.j  0.  +0.j  0.  +0.j -0.  +0.j -0.  +0.j -0.  +0.j -0.  +0.j\n",
      " -0.  +0.j  0.  +0.j -0.71+0.j  0.71+0.j]                                      \n",
      "Instabilities detected, with subs = [0]\n"
     ]
    }
   ],
   "source": [
    "the_angle = np.deg2rad(80.0)\n",
    "k = 1.0 * np.array((np.cos(the_angle), 0.0, np.sin(the_angle)))\n",
    "\n",
    "# Try to make a table\n",
    "the_format = '{:5} {:15} {:150}'\n",
    "print(the_format.format('#', 'omega', 'polarity'))\n",
    "the_modes = the_plasma.get_modes(k)\n",
    "instabilies_detected = []\n",
    "\n",
    "for i, mode in enumerate(the_modes):\n",
    "    wave = mode.to_planar_wave()\n",
    "    omega = wave.get_omega\n",
    "    pol = wave.get_unit_energy_oscillation\n",
    "\n",
    "    print(the_format.format(\n",
    "        i + 1,\n",
    "        np.array2string(omega, precision=4),\n",
    "        np.array2string(pol, precision=2, suppress_small=True)))\n",
    "\n",
    "    if isinstance(omega, complex) and omega.imag > 0:\n",
    "        instabilies_detected.append(i)\n",
    "\n",
    "if len(instabilies_detected) > 0:\n",
    "    print(f'Instabilities detected, with subs = {instabilies_detected}')\n",
    "else:\n",
    "    print('No instabilities')"
   ]
  }
 ],
 "metadata": {
  "kernelspec": {
   "display_name": "venv",
   "language": "python",
   "name": "python3"
  },
  "language_info": {
   "codemirror_mode": {
    "name": "ipython",
    "version": 3
   },
   "file_extension": ".py",
   "mimetype": "text/x-python",
   "name": "python",
   "nbconvert_exporter": "python",
   "pygments_lexer": "ipython3",
   "version": "3.12.9"
  }
 },
 "nbformat": 4,
 "nbformat_minor": 2
}
