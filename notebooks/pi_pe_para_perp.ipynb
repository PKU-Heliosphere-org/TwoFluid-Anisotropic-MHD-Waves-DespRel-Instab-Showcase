{
 "cells": [
  {
   "cell_type": "markdown",
   "metadata": {},
   "source": [
    "# Two Fluid Solution"
   ]
  },
  {
   "cell_type": "markdown",
   "metadata": {},
   "source": [
    "## Presets\n",
    "\n",
    "We preset it with $\\gamma_e = \\gamma_i = 5/3$, $\\beta_\\parallel = 1$, $\\beta_\\perp = 1.2$  for each of i, e (of course these are adjustable). "
   ]
  },
  {
   "cell_type": "code",
   "execution_count": 1,
   "metadata": {},
   "outputs": [],
   "source": [
    "from wave_instab_showcase.physics.plasma_anistotropic import PlasmaInfo, TwoComponentAnisotropicPlasma\n",
    "import numpy as np\n",
    "\n",
    "\n",
    "# One could try to change this.\n",
    "the_plasma_info_e = PlasmaInfo(\n",
    "    beta_para=1.0,\n",
    "    beta_perp=1.2,\n",
    "    gamma_para=5.0/3,\n",
    "    gamma_perp=5.0/3\n",
    ")\n",
    "the_plasma_info_i = PlasmaInfo(\n",
    "    beta_para=1.0,\n",
    "    beta_perp=1.2,\n",
    "    gamma_para=5.0/3,\n",
    "    gamma_perp=5.0/3\n",
    ")\n",
    "\n",
    "# Also one could play with the va and b0.\n",
    "va = 1.0\n",
    "b0 = np.array((0.0, 0.0, 1.0))\n",
    "\n",
    "the_plasma = TwoComponentAnisotropicPlasma(the_plasma_info_e, the_plasma_info_i, va, b0)"
   ]
  },
  {
   "cell_type": "markdown",
   "metadata": {},
   "source": [
    "## Try with a $\\mathbf k$ with the angle of $80^\\circ$"
   ]
  },
  {
   "cell_type": "code",
   "execution_count": 2,
   "metadata": {},
   "outputs": [
    {
     "name": "stdout",
     "output_type": "stream",
     "text": [
      "#     omega           polarity                                                                                                                                              \n",
      "    1 -0.6129+0.9698j [ 0.28+0.44j -0.6 +0.j   -0.03-0.03j -0.  -0.j   -0.  +0.01j  0.01-0.04j\n",
      " -0.  -0.j    0.19-0.3j   0.19-0.3j   0.17-0.17j  0.17-0.17j]                \n",
      "    2 -0.6129-0.9698j [ 0.28-0.44j -0.6 -0.j   -0.03+0.03j -0.  +0.j   -0.  -0.01j  0.01+0.04j\n",
      " -0.  +0.j    0.19+0.3j   0.19+0.3j   0.17+0.17j  0.17+0.17j]                \n",
      "    3 1.2604+0.j      [-0.45+0.j -0.52+0.j -0.31+0.j -0.  +0.j -0.04+0.j  0.24+0.j -0.  +0.j\n",
      " -0.33+0.j -0.33+0.j -0.28+0.j -0.28+0.j]                                      \n",
      "    4 1.0482+0.j      [ 0.2 +0.j  0.32+0.j -0.62+0.j -0.  +0.j -0.1 +0.j  0.59+0.j -0.  +0.j\n",
      "  0.18+0.j  0.18+0.j  0.16+0.j  0.16+0.j]                                      \n",
      "    5 -1.0828+0.j     [-0.06+0.j -0.07+0.j  0.73+0.j -0.  +0.j -0.12+0.j  0.66+0.j -0.  +0.j\n",
      "  0.05+0.j  0.05+0.j  0.04+0.j  0.04+0.j]                                      \n",
      "    6 -1.9603e-17+0.j [ 0.  +0.j -0.  +0.j -0.  +0.j  0.  +0.j  0.03+0.j -0.2 +0.j  0.  +0.j\n",
      " -0.  +0.j -0.  +0.j -0.69+0.j -0.69+0.j]                                      \n",
      "    7 -1.0788+0.j     [-0.  +0.j -0.  +0.j  0.  +0.j  0.74+0.j -0.  +0.j  0.  +0.j  0.67+0.j\n",
      "  0.  +0.j  0.  +0.j  0.  +0.j  0.  +0.j]                                      \n",
      "    8 -9.5794e-17+0.j [ 0.  +0.j -0.  +0.j  0.  +0.j -0.  +0.j -0.46+0.j -0.12+0.j -0.  +0.j\n",
      "  0.6 +0.j -0.6 +0.j -0.17+0.j -0.17+0.j]                                      \n",
      "    9 1.0788+0.j      [-0.  +0.j -0.  +0.j  0.  +0.j  0.74+0.j  0.  +0.j -0.  +0.j -0.67+0.j\n",
      " -0.  +0.j -0.  +0.j -0.  +0.j -0.  +0.j]                                      \n",
      "   10 4.5222e-17+0.j  [-0.  +0.j  0.  +0.j  0.  +0.j -0.  +0.j -0.56+0.j  0.09+0.j -0.  +0.j\n",
      " -0.07+0.j  0.07+0.j  0.58+0.j  0.58+0.j]                                      \n",
      "   11 3.0815e-33+0.j  [ 0.  +0.j  0.  +0.j -0.  +0.j -0.  +0.j -0.  +0.j -0.  +0.j -0.  +0.j\n",
      " -0.  +0.j  0.  +0.j -0.71+0.j  0.71+0.j]                                      \n",
      "Instabilities detected, with subs = [0]\n"
     ]
    }
   ],
   "source": [
    "the_angle = np.deg2rad(80.0)\n",
    "k = 1.0 * np.array((np.cos(the_angle), 0.0, np.sin(the_angle)))\n",
    "\n",
    "# Try to make a table\n",
    "the_format = '{:5} {:15} {:150}'\n",
    "print(the_format.format('#', 'omega', 'polarity'))\n",
    "the_modes = the_plasma.get_modes(k)\n",
    "instabilies_detected = []\n",
    "\n",
    "for i, mode in enumerate(the_modes):\n",
    "    wave = mode.to_planar_wave()\n",
    "    omega = wave.get_omega\n",
    "    pol = wave.get_unit_energy_oscillation\n",
    "\n",
    "    print(the_format.format(\n",
    "        i + 1,\n",
    "        np.array2string(omega, precision=4),\n",
    "        np.array2string(pol, precision=2, suppress_small=True)))\n",
    "\n",
    "    if isinstance(omega, complex) and omega.imag > 0:\n",
    "        instabilies_detected.append(i)\n",
    "\n",
    "if len(instabilies_detected) > 0:\n",
    "    print(f'Instabilities detected, with subs = {instabilies_detected}')\n",
    "else:\n",
    "    print('No instabilities')"
   ]
  },
  {
   "cell_type": "markdown",
   "metadata": {},
   "source": [
    "## Make a Brazil plot"
   ]
  },
  {
   "cell_type": "markdown",
   "metadata": {},
   "source": [
    "We use $\\beta_\\parallel$ from 0.1 to 10.0. The value applies to each type. \n",
    "Also, we use $A = \\beta_\\perp / \\beta_\\parallel$ also from 0.1 to 10.0. "
   ]
  },
  {
   "cell_type": "code",
   "execution_count": 18,
   "metadata": {},
   "outputs": [
    {
     "data": {
      "text/plain": [
       "<matplotlib.colorbar.Colorbar at 0x7f13c34e4b90>"
      ]
     },
     "execution_count": 18,
     "metadata": {},
     "output_type": "execute_result"
    },
    {
     "data": {
      "image/png": "[encoded data removed]",
      "text/plain": [
       "<Figure size 640x480 with 2 Axes>"
      ]
     },
     "metadata": {},
     "output_type": "display_data"
    }
   ],
   "source": [
    "n_beta = 201\n",
    "beta_parallel = np.linspace(np.log10(0.1), np.log10(10.0), n_beta)\n",
    "n_big_a = 201\n",
    "big_a = np.linspace(np.log10(0.1), np.log10(10.0), n_big_a)\n",
    "res_gamma = np.empty((n_beta, n_big_a))\n",
    "mesh_x, mesh_y = np.meshgrid(beta_parallel, big_a, indexing='ij')\n",
    "\n",
    "theta_to_compute = np.deg2rad(30.0)\n",
    "k_to_compute = 1.0 * np.array((np.sin(theta_to_compute), 0.0, np.cos(theta_to_compute)))\n",
    "\n",
    "def take_max_gamma(eigs: np.ndarray):\n",
    "    if (not isinstance(eigs, np.ndarray)) or (not np.iscomplexobj(eigs)):\n",
    "        return -np.inf\n",
    "    res = np.log10(np.max(np.imag(eigs) / (np.abs(np.real(eigs)) + 1e-10)))\n",
    "    return res if res > 0.3 else -np.inf\n",
    "\n",
    "\n",
    "for i in range(n_beta):\n",
    "    beta_para_val = 10.0 ** beta_parallel[i]\n",
    "    for j in range(n_big_a):\n",
    "        big_a_val = 10.0 ** big_a[j]\n",
    "        the_plasma_info = PlasmaInfo(\n",
    "            beta_para_val, beta_para_val * big_a_val,\n",
    "            1.33, 0.69)\n",
    "        the_plasma_in_question = TwoComponentAnisotropicPlasma(the_plasma_info, the_plasma_info, va, b0)\n",
    "        the_eigs = the_plasma_in_question.eig_vals(k_to_compute)\n",
    "        res_gamma[i, j] = take_max_gamma(the_eigs)\n",
    "\n",
    "\n",
    "import matplotlib.pyplot as plt\n",
    "\n",
    "plt.contourf(mesh_x, mesh_y, res_gamma, levels=None)\n",
    "plt.colorbar()\n"
   ]
  },
  {
   "cell_type": "markdown",
   "metadata": {},
   "source": [
    "Now we can check out mirror mode (purple) and Firehose instability (yellow). "
   ]
  }
 ],
 "metadata": {
  "kernelspec": {
   "display_name": "venv",
   "language": "python",
   "name": "python3"
  },
  "language_info": {
   "codemirror_mode": {
    "name": "ipython",
    "version": 3
   },
   "file_extension": ".py",
   "mimetype": "text/x-python",
   "name": "python",
   "nbconvert_exporter": "python",
   "pygments_lexer": "ipython3",
   "version": "3.12.9"
  }
 },
 "nbformat": 4,
 "nbformat_minor": 2
}
